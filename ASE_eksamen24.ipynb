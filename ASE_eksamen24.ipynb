{
  "nbformat": 4,
  "nbformat_minor": 0,
  "metadata": {
    "colab": {
      "provenance": [],
      "include_colab_link": true
    },
    "kernelspec": {
      "name": "python3",
      "display_name": "Python 3"
    },
    "language_info": {
      "name": "python"
    }
  },
  "cells": [
    {
      "cell_type": "markdown",
      "metadata": {
        "id": "view-in-github",
        "colab_type": "text"
      },
      "source": [
        "<a href=\"https://colab.research.google.com/github/louisehviid/ASE2024/blob/main/ASE_eksamen24.ipynb\" target=\"_parent\"><img src=\"https://colab.research.google.com/assets/colab-badge.svg\" alt=\"Open In Colab\"/></a>"
      ]
    },
    {
      "cell_type": "markdown",
      "source": [
        "**Navn:**\n",
        "\n",
        "**Studienummer:**"
      ],
      "metadata": {
        "id": "4ATGR3kK85vF"
      }
    },
    {
      "cell_type": "markdown",
      "source": [
        "Dette er en colab fil, som du kan bruge til eksamen i anvendt statistik på HA Erhvervsøkonomi på 2. semester, 2024. Husk at gemme filen undervejs, og vedhæft den som bilag til din besvarelse.\n",
        "\n",
        "Held og lykke."
      ],
      "metadata": {
        "id": "m55vTwfN9MvM"
      }
    },
    {
      "cell_type": "code",
      "execution_count": 1,
      "metadata": {
        "id": "Z0iFG_ef8uRX"
      },
      "outputs": [],
      "source": [
        "# Husk at installere pakkerne, som du skal bruge\n",
        "import pandas as pd\n",
        "import numpy as np\n",
        "import matplotlib.pyplot as plt"
      ]
    },
    {
      "cell_type": "code",
      "source": [
        "# Indlæs dataset fra github\n",
        "\n",
        "data = pd.read_excel('https://raw.githubusercontent.com/louisehviid/ASE2024/main/Data/data_eksamen24.xlsx')\n",
        "\n"
      ],
      "metadata": {
        "id": "abdRBLGA-ycl"
      },
      "execution_count": null,
      "outputs": []
    },
    {
      "cell_type": "code",
      "source": [
        "#Check at datasættet er tilgængeligt\n",
        "print(data.shape)\n",
        "data.head()"
      ],
      "metadata": {
        "id": "9AW2ZcVbSRUj"
      },
      "execution_count": null,
      "outputs": []
    }
  ]
}